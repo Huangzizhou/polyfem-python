{
 "cells": [
  {
   "cell_type": "code",
   "execution_count": null,
   "metadata": {},
   "outputs": [],
   "source": [
    "import polyfempy as pf\n",
    "import json\n",
    "import numpy as np\n",
    "import torch\n",
    "\n",
    "torch.set_default_dtype(torch.float64)"
   ]
  },
  {
   "cell_type": "code",
   "execution_count": null,
   "metadata": {},
   "outputs": [],
   "source": [
    "# Differentiable simulator that computes shape derivatives\n",
    "class Simulate(torch.autograd.Function):\n",
    "\n",
    "    @staticmethod\n",
    "    def forward(ctx, solver, vertices):\n",
    "        # Update solver setup\n",
    "        solver.mesh().set_vertices(vertices)\n",
    "        # Enable caching intermediate variables in the simulation, which will be used for solve_adjoint\n",
    "        solver.set_cache_level(pf.CacheLevel.Derivatives)\n",
    "        # Run simulation\n",
    "        solver.solve()\n",
    "        # Collect transient simulation solutions\n",
    "        cache = solver.get_solution_cache()\n",
    "        sol = torch.zeros((solver.ndof(), cache.size()))\n",
    "        for t in range(cache.size()):\n",
    "            sol[:, t] = torch.tensor(cache.solution(t))\n",
    "        # Cache solver for backward gradient propagation\n",
    "        ctx.solver = solver\n",
    "        return sol\n",
    "\n",
    "    @staticmethod\n",
    "    @torch.autograd.function.once_differentiable\n",
    "    def backward(ctx, grad_output):\n",
    "        # solve_adjoint only needs to be called once per solver, independent of number of types of optimization variables\n",
    "        ctx.solver.solve_adjoint(grad_output)\n",
    "        # Compute shape derivatives\n",
    "        return None, torch.tensor(pf.shape_derivative(ctx.solver))"
   ]
  },
  {
   "cell_type": "code",
   "execution_count": null,
   "metadata": {},
   "outputs": [],
   "source": [
    "root = \"../data/differentiable/input\"\n",
    "with open(root + \"/initial-contact.json\", \"r\") as f:\n",
    "    config = json.load(f)\n",
    "\n",
    "config[\"root_path\"] = root + \"/initial-contact.json\"\n",
    "\n",
    "# Simulation 1\n",
    "\n",
    "solver1 = pf.Solver()\n",
    "solver1.set_settings(json.dumps(config), False)\n",
    "solver1.set_log_level(2)\n",
    "solver1.load_mesh_from_settings()\n",
    "\n",
    "mesh = solver1.mesh()\n",
    "v = mesh.vertices()\n",
    "vertices = torch.tensor(solver1.mesh().vertices(), requires_grad=True)\n",
    "\n",
    "# Simulation 2\n",
    "\n",
    "config[\"initial_conditions\"][\"velocity\"][0][\"value\"] = [3, 0]\n",
    "solver2 = pf.Solver()\n",
    "solver2.set_settings(json.dumps(config), False)\n",
    "solver2.set_log_level(2)\n",
    "solver2.load_mesh_from_settings()"
   ]
  },
  {
   "cell_type": "code",
   "execution_count": null,
   "metadata": {},
   "outputs": [],
   "source": [
    "\n",
    "# Verify gradient\n",
    "\n",
    "def loss(vertices):\n",
    "    solutions1 = Simulate.apply(solver1, vertices)\n",
    "    solutions2 = Simulate.apply(solver2, vertices)\n",
    "    print(obj.value(vertices.reshape(-1,1).detach().numpy()))\n",
    "    return torch.linalg.norm(solutions1[:, -1]) * torch.linalg.norm(solutions2[:, -1])\n",
    "\n",
    "torch.set_printoptions(12)\n",
    "\n",
    "param = vertices.clone().detach().requires_grad_(True)\n",
    "theta = torch.randn_like(param)\n",
    "l = loss(param)\n",
    "l.backward()\n",
    "grad = param.grad\n",
    "t = 1e-6\n",
    "with torch.no_grad():\n",
    "    analytic = torch.tensordot(grad, theta)\n",
    "    f1 = loss(param + theta * t)\n",
    "    f2 = loss(param - theta * t)\n",
    "    fd = (f1 - f2) / (2 * t)\n",
    "    print(f'grad {analytic}, fd {fd} {(f1 - l) / t} {(l - f2) / t}, relative err {abs(analytic - fd) / abs(analytic):.3e}')\n",
    "    print(f'f(x+dx)={f1}, f(x)={l.detach()}, f(x-dx)={f2}')\n",
    "    assert(abs(analytic - fd) <= 1e-4 * abs(analytic))"
   ]
  }
 ],
 "metadata": {
  "kernelspec": {
   "display_name": "base",
   "language": "python",
   "name": "python3"
  },
  "language_info": {
   "codemirror_mode": {
    "name": "ipython",
    "version": 3
   },
   "file_extension": ".py",
   "mimetype": "text/x-python",
   "name": "python",
   "nbconvert_exporter": "python",
   "pygments_lexer": "ipython3",
   "version": "3.11.8"
  }
 },
 "nbformat": 4,
 "nbformat_minor": 2
}
