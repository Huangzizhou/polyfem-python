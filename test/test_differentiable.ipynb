{
 "cells": [
  {
   "cell_type": "code",
   "execution_count": null,
   "metadata": {},
   "outputs": [],
   "source": [
    "import polyfempy as pf\n",
    "import json\n",
    "import numpy as np\n",
    "import torch\n",
    "\n",
    "torch.set_default_dtype(torch.float64)"
   ]
  },
  {
   "cell_type": "code",
   "execution_count": null,
   "metadata": {},
   "outputs": [],
   "source": [
    "# Differentiable simulator that computes shape derivatives\n",
    "class Simulate(torch.autograd.Function):\n",
    "\n",
    "    @staticmethod\n",
    "    def forward(ctx, solver, vertices):\n",
    "        solver.mesh().set_vertices(vertices)\n",
    "        solver.set_cache_level(pf.CacheLevel.Derivatives) # enable backward derivatives\n",
    "        solver.solve()\n",
    "        cache = solver.get_solution_cache()\n",
    "        solutions = torch.zeros((solver.ndof(), cache.size()))\n",
    "        for t in range(cache.size()):\n",
    "            solutions[:, t] = torch.tensor(cache.solution(t))\n",
    "        \n",
    "        ctx.solver = solver\n",
    "        return solutions\n",
    "\n",
    "    @staticmethod\n",
    "    def backward(ctx, grad_output):\n",
    "        ctx.solver.solve_adjoint(grad_output)\n",
    "        return None, torch.tensor(pf.shape_derivative(ctx.solver))"
   ]
  },
  {
   "cell_type": "code",
   "execution_count": null,
   "metadata": {},
   "outputs": [],
   "source": [
    "root = \"../data/differentiable/input\"\n",
    "with open(root + \"/initial-contact.json\", \"r\") as f:\n",
    "    config = json.load(f)\n",
    "\n",
    "config[\"root_path\"] = root + \"/initial-contact.json\"\n",
    "\n",
    "solver = pf.Solver()\n",
    "solver.set_settings(json.dumps(config), False)\n",
    "solver.set_log_level(2)\n",
    "solver.load_mesh_from_settings()\n",
    "\n",
    "mesh = solver.mesh()\n",
    "v = mesh.vertices()\n",
    "vertices = torch.tensor(solver.mesh().vertices(), requires_grad=True)"
   ]
  },
  {
   "cell_type": "code",
   "execution_count": null,
   "metadata": {},
   "outputs": [],
   "source": [
    "# Verify gradient\n",
    "\n",
    "def loss(vertices):\n",
    "    solutions = Simulate.apply(solver, vertices)\n",
    "    return torch.linalg.norm(solutions[:, -1])\n",
    "\n",
    "torch.set_printoptions(12)\n",
    "\n",
    "param = vertices.clone().detach().requires_grad_(True)\n",
    "theta = torch.randn_like(param)\n",
    "l = loss(param)\n",
    "l.backward()\n",
    "grad = param.grad\n",
    "t = 1e-6\n",
    "with torch.no_grad():\n",
    "    analytic = torch.tensordot(grad, theta)\n",
    "    f1 = loss(param + theta * t)\n",
    "    f2 = loss(param - theta * t)\n",
    "    fd = (f1 - f2) / (2 * t)\n",
    "    print(f'grad {analytic}, fd {fd} {(f1 - l) / t} {(l - f2) / t}, relative err {abs(analytic - fd) / abs(analytic):.3e}')\n",
    "    print(f'f(x+dx)={f1}, f(x)={l.detach()}, f(x-dx)={f2}')\n",
    "    assert(abs(analytic - fd) <= 1e-4 * abs(analytic))"
   ]
  }
 ],
 "metadata": {
  "kernelspec": {
   "display_name": "base",
   "language": "python",
   "name": "python3"
  },
  "language_info": {
   "codemirror_mode": {
    "name": "ipython",
    "version": 3
   },
   "file_extension": ".py",
   "mimetype": "text/x-python",
   "name": "python",
   "nbconvert_exporter": "python",
   "pygments_lexer": "ipython3",
   "version": "3.11.8"
  }
 },
 "nbformat": 4,
 "nbformat_minor": 2
}
