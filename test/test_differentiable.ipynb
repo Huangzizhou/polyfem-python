{
 "cells": [
  {
   "cell_type": "code",
   "execution_count": null,
   "metadata": {},
   "outputs": [],
   "source": [
    "import polyfempy as pf\n",
    "import json\n",
    "import numpy as np\n",
    "import torch\n",
    "\n",
    "torch.set_default_dtype(torch.float64)"
   ]
  },
  {
   "cell_type": "code",
   "execution_count": null,
   "metadata": {},
   "outputs": [],
   "source": [
    "\n",
    "# Differentiable simulator that computes shape derivatives\n",
    "class Simulate(torch.autograd.Function):\n",
    "\n",
    "    @staticmethod\n",
    "    def forward(ctx, solvers, vertices):\n",
    "        solutions = []\n",
    "        for solver in solvers:\n",
    "            solver.mesh().set_vertices(vertices)\n",
    "            solver.set_cache_level(pf.CacheLevel.Derivatives) # enable backward derivatives\n",
    "            solver.solve()\n",
    "            cache = solver.get_solution_cache()\n",
    "            sol = torch.zeros((solver.ndof(), cache.size()))\n",
    "            for t in range(cache.size()):\n",
    "                sol[:, t] = torch.tensor(cache.solution(t))\n",
    "            solutions.append(sol)\n",
    "        \n",
    "        ctx.save_for_backward(vertices)\n",
    "        ctx.solvers = solvers\n",
    "        return tuple(solutions)\n",
    "\n",
    "    @staticmethod\n",
    "    @torch.autograd.function.once_differentiable\n",
    "    def backward(ctx, *grad_output):\n",
    "        vertices, = ctx.saved_tensors\n",
    "        grad = torch.zeros_like(vertices)\n",
    "        for i, solver in enumerate(ctx.solvers):\n",
    "            solver.solve_adjoint(grad_output[i])\n",
    "            grad += torch.tensor(pf.shape_derivative(solver))\n",
    "        return None, grad\n"
   ]
  },
  {
   "cell_type": "code",
   "execution_count": null,
   "metadata": {},
   "outputs": [],
   "source": [
    "\n",
    "root = \"../data/differentiable/input\"\n",
    "with open(root + \"/initial-contact.json\", \"r\") as f:\n",
    "    config = json.load(f)\n",
    "\n",
    "config[\"root_path\"] = root + \"/initial-contact.json\"\n",
    "\n",
    "# Simulation 1\n",
    "\n",
    "solver1 = pf.Solver()\n",
    "solver1.set_settings(json.dumps(config), False)\n",
    "solver1.set_log_level(2)\n",
    "solver1.load_mesh_from_settings()\n",
    "# solver1.solve()\n",
    "\n",
    "mesh = solver1.mesh()\n",
    "v = mesh.vertices()\n",
    "vertices = torch.tensor(solver1.mesh().vertices(), requires_grad=True)\n",
    "\n",
    "# Simulation 2\n",
    "\n",
    "config[\"initial_conditions\"][\"velocity\"][0][\"value\"] = [3, 0]\n",
    "solver2 = pf.Solver()\n",
    "solver2.set_settings(json.dumps(config), False)\n",
    "solver2.set_log_level(2)\n",
    "solver2.load_mesh_from_settings()\n",
    "# solver2.solve()"
   ]
  },
  {
   "cell_type": "code",
   "execution_count": null,
   "metadata": {},
   "outputs": [],
   "source": [
    "\n",
    "# Verify gradient\n",
    "\n",
    "def loss(vertices):\n",
    "    solutions1, solutions2 = Simulate.apply([solver1, solver2], vertices)\n",
    "    return torch.linalg.norm(solutions1[:, -1]) * torch.linalg.norm(solutions2[:, -1])\n",
    "\n",
    "torch.set_printoptions(12)\n",
    "\n",
    "param = vertices.clone().detach().requires_grad_(True)\n",
    "theta = torch.randn_like(param)\n",
    "l = loss(param)\n",
    "l.backward()\n",
    "grad = param.grad\n",
    "t = 1e-6\n",
    "with torch.no_grad():\n",
    "    analytic = torch.tensordot(grad, theta)\n",
    "    f1 = loss(param + theta * t)\n",
    "    f2 = loss(param - theta * t)\n",
    "    fd = (f1 - f2) / (2 * t)\n",
    "    print(f'grad {analytic}, fd {fd} {(f1 - l) / t} {(l - f2) / t}, relative err {abs(analytic - fd) / abs(analytic):.3e}')\n",
    "    print(f'f(x+dx)={f1}, f(x)={l.detach()}, f(x-dx)={f2}')\n",
    "    assert(abs(analytic - fd) <= 1e-4 * abs(analytic))"
   ]
  }
 ],
 "metadata": {
  "kernelspec": {
   "display_name": "base",
   "language": "python",
   "name": "python3"
  },
  "language_info": {
   "codemirror_mode": {
    "name": "ipython",
    "version": 3
   },
   "file_extension": ".py",
   "mimetype": "text/x-python",
   "name": "python",
   "nbconvert_exporter": "python",
   "pygments_lexer": "ipython3",
   "version": "3.11.8"
  }
 },
 "nbformat": 4,
 "nbformat_minor": 2
}
