{
 "cells": [
  {
   "cell_type": "code",
   "execution_count": null,
   "metadata": {},
   "outputs": [],
   "source": [
    "import sys\n",
    "sys.path.append(\"/Users/zizhouhuang/Desktop/polyfem-python/build/\")\n",
    "import polyfempy as pf\n",
    "import json\n",
    "import torch\n",
    "\n",
    "torch.set_default_dtype(torch.float64)"
   ]
  },
  {
   "cell_type": "code",
   "execution_count": null,
   "metadata": {},
   "outputs": [],
   "source": [
    "# Differentiable simulator that computes initial derivatives\n",
    "class Simulate(torch.autograd.Function):\n",
    "\n",
    "    @staticmethod\n",
    "    def forward(ctx, solver, body_ids, initial_velocities):\n",
    "        # Update solver setup\n",
    "        for bid, vel in zip(body_ids, initial_velocities):\n",
    "            print(bid, vel)\n",
    "            solver.set_initial_velocity(bid, vel)\n",
    "        sys.stdout.flush()\n",
    "        # Enable caching intermediate variables in the simulation, which will be used for solve_adjoint\n",
    "        solver.set_cache_level(pf.CacheLevel.Derivatives)\n",
    "        # Run simulation\n",
    "        solver.solve()\n",
    "        # Cache solver for backward gradient propagation\n",
    "        ctx.solver = solver\n",
    "        ctx.bids = body_ids\n",
    "        return torch.tensor(solver.get_solutions())\n",
    "\n",
    "    @staticmethod\n",
    "    @torch.autograd.function.once_differentiable\n",
    "    def backward(ctx, grad_output):\n",
    "        # solve_adjoint only needs to be called once per solver, independent of number of types of optimization variables\n",
    "        ctx.solver.solve_adjoint(grad_output.detach().numpy())\n",
    "        # Compute initial derivatives\n",
    "        grads = pf.initial_velocity_derivative(ctx.solver)\n",
    "        flat_grad = torch.zeros((len(ctx.bids), len(grads[ctx.bids[0]])), dtype=float)\n",
    "        for id, g in grads.items():\n",
    "            flat_grad[ctx.bids.index(id), :] = torch.tensor(g)\n",
    "        return None, None, flat_grad"
   ]
  },
  {
   "cell_type": "code",
   "execution_count": null,
   "metadata": {},
   "outputs": [],
   "source": [
    "root = \"../data/differentiable/input\"\n",
    "with open(root + \"/initial-contact.json\", \"r\") as f:\n",
    "    config = json.load(f)\n",
    "\n",
    "config[\"root_path\"] = root + \"/initial-contact.json\"\n",
    "\n",
    "# Simulation 1\n",
    "\n",
    "solver1 = pf.Solver()\n",
    "solver1.set_settings(json.dumps(config), False)\n",
    "solver1.set_log_level(2)\n",
    "solver1.load_mesh_from_settings()\n",
    "\n",
    "# Simulation 2\n",
    "\n",
    "config[\"initial_conditions\"][\"velocity\"][0][\"value\"] = [3, 0]\n",
    "solver2 = pf.Solver()\n",
    "solver2.set_settings(json.dumps(config), False)\n",
    "solver2.set_log_level(1)\n",
    "solver2.load_mesh_from_settings()"
   ]
  },
  {
   "cell_type": "code",
   "execution_count": null,
   "metadata": {},
   "outputs": [],
   "source": [
    "\n",
    "# Verify gradient\n",
    "def loss(param):\n",
    "    solutions1 = Simulate.apply(solver1, body_ids, param)\n",
    "    solutions2 = Simulate.apply(solver2, body_ids, param)\n",
    "    return torch.linalg.norm(solutions1[:, -1]) * torch.linalg.norm(solutions2[:, -1])\n",
    "\n",
    "torch.set_printoptions(12)\n",
    "\n",
    "dt = 0.04\n",
    "solver1.set_cache_level(pf.CacheLevel.Derivatives)\n",
    "solver1.build_basis()\n",
    "solver1.assemble()\n",
    "solver1.init_timestepping(0, dt)\n",
    "solver2.set_cache_level(pf.CacheLevel.Derivatives)\n",
    "solver2.build_basis()\n",
    "solver2.assemble()\n",
    "solver2.init_timestepping(0, dt)\n",
    "param = torch.tensor([[5., 0], [0, 0]], requires_grad=True)\n",
    "body_ids = [1, 3]\n",
    "\n",
    "theta = torch.randn_like(param)\n",
    "l = loss(param)\n",
    "l.backward()\n",
    "grad = param.grad\n",
    "t = 1e-6\n",
    "with torch.no_grad():\n",
    "    analytic = torch.tensordot(grad, theta)\n",
    "    f1 = loss(param + theta * t)\n",
    "    f2 = loss(param - theta * t)\n",
    "    fd = (f1 - f2) / (2 * t)\n",
    "    print(f'\\ngrad {analytic}, fd {fd} {(f1 - l) / t} {(l - f2) / t}, relative err {abs(analytic - fd) / abs(analytic):.3e}')\n",
    "    print(f'f(x+dx)={f1}, f(x)={l.detach()}, f(x-dx)={f2}')\n",
    "    assert(abs(analytic - fd) <= 1e-4 * abs(analytic))"
   ]
  }
 ],
 "metadata": {
  "kernelspec": {
   "display_name": "base",
   "language": "python",
   "name": "python3"
  },
  "language_info": {
   "codemirror_mode": {
    "name": "ipython",
    "version": 3
   },
   "file_extension": ".py",
   "mimetype": "text/x-python",
   "name": "python",
   "nbconvert_exporter": "python",
   "pygments_lexer": "ipython3",
   "version": "3.9.19"
  }
 },
 "nbformat": 4,
 "nbformat_minor": 2
}
