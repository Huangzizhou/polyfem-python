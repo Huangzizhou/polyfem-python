{
 "cells": [
  {
   "cell_type": "code",
   "execution_count": null,
   "metadata": {},
   "outputs": [],
   "source": [
    "import polyfempy as pf\n",
    "import json\n",
    "import numpy as np"
   ]
  },
  {
   "cell_type": "code",
   "execution_count": null,
   "metadata": {},
   "outputs": [],
   "source": [
    "root = \"../data/differentiable/input\"\n",
    "with open(root + \"/initial-contact.json\", \"r\") as f:\n",
    "    config = json.load(f)\n",
    "\n",
    "config[\"contact\"][\"use_convergent_formulation\"] = True\n",
    "config[\"root_path\"] = root + \"/initial-contact.json\"\n",
    "\n",
    "solver = pf.Solver()\n",
    "solver.set_settings(json.dumps(config), False)\n",
    "solver.set_log_level(2)\n",
    "solver.load_mesh_from_settings()"
   ]
  },
  {
   "cell_type": "code",
   "execution_count": null,
   "metadata": {},
   "outputs": [],
   "source": [
    "mesh = solver.mesh()\n",
    "\n",
    "print(mesh.n_vertices())\n",
    "print(mesh.n_elements())\n",
    "print(mesh.n_cell_vertices(1))\n",
    "print(mesh.element_vertex(3, 0))\n",
    "print(mesh.boundary_element_vertex(3, 0))\n",
    "assert(mesh.is_boundary_vertex(1))\n",
    "\n",
    "min, max = mesh.bounding_box()"
   ]
  },
  {
   "cell_type": "code",
   "execution_count": null,
   "metadata": {},
   "outputs": [],
   "source": [
    "config = solver.settings()\n",
    "t0 = config[\"time\"][\"t0\"]\n",
    "dt = config[\"time\"][\"dt\"]\n",
    "\n",
    "# inits stuff\n",
    "solver.build_basis()\n",
    "solver.assemble()\n",
    "sol = solver.init_timestepping(t0, dt)\n",
    "\n",
    "for i in range(1, 5):\n",
    "    \n",
    "    # substepping\n",
    "    for t in range(1):\n",
    "        sol = solver.step_in_time(sol, t0, dt, t+1)\n",
    "\n",
    "    t0 += dt\n",
    "    solver.export_vtu(\"step_\" + str(i) + \".vtu\", sol, np.zeros((0, 0)), t0, dt)\n"
   ]
  },
  {
   "cell_type": "code",
   "execution_count": null,
   "metadata": {},
   "outputs": [],
   "source": [
    "prob = solver.nl_problem()\n",
    "\n",
    "h = prob.hessian(sol)\n",
    "reduced_sol = prob.full_to_reduced(sol)\n",
    "full_sol = prob.reduced_to_full(reduced_sol)\n",
    "\n",
    "assert(np.linalg.norm(full_sol - sol.flatten()) < 1e-12)"
   ]
  },
  {
   "cell_type": "code",
   "execution_count": null,
   "metadata": {},
   "outputs": [],
   "source": [
    "cache = solver.get_solution_cache()\n",
    "\n",
    "print(cache.solution(1).shape)\n",
    "print(cache.velocity(2).shape)\n",
    "print(cache.acceleration(3).shape)\n",
    "print(cache.hessian(4).shape)"
   ]
  }
 ],
 "metadata": {
  "kernelspec": {
   "display_name": "base",
   "language": "python",
   "name": "python3"
  },
  "language_info": {
   "codemirror_mode": {
    "name": "ipython",
    "version": 3
   },
   "file_extension": ".py",
   "mimetype": "text/x-python",
   "name": "python",
   "nbconvert_exporter": "python",
   "pygments_lexer": "ipython3",
   "version": "3.11.8"
  }
 },
 "nbformat": 4,
 "nbformat_minor": 2
}
